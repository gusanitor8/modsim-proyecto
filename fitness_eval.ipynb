{
 "cells": [
  {
   "cell_type": "markdown",
   "metadata": {},
   "source": [
    "# Evaluacion de mejor funcion de fitness"
   ]
  },
  {
   "cell_type": "markdown",
   "metadata": {},
   "source": [
    "## Librerias"
   ]
  },
  {
   "cell_type": "code",
   "execution_count": null,
   "metadata": {},
   "outputs": [],
   "source": [
    "from maze import MazeGenerator\n",
    "from path_generator import PathGenerator\n",
    "from genetic_algorithm import GeneticAlgorithm\n",
    "from gen_functions import fitness, fitness_exp, fitness_log, fitness_sqrt, crossover, mutation\n",
    "import matplotlib.pyplot as plt\n",
    "import numpy as np"
   ]
  },
  {
   "cell_type": "markdown",
   "metadata": {},
   "source": [
    "## Constantes"
   ]
  },
  {
   "cell_type": "code",
   "execution_count": null,
   "metadata": {},
   "outputs": [],
   "source": [
    "EPOCHS = 1000\n",
    "POPULATION = 50\n",
    "MUTATION_RATE = 0.1\n",
    "DIM = 51\n",
    "\n",
    "FITNESS_FUNCTIONS = {\n",
    "    \"fitness\": fitness,\n",
    "    \"fitness_sqrt\": fitness_sqrt,\n",
    "    \"fitness_exp\": fitness_exp,\n",
    "    \"fitness_log\": fitness_log\n",
    "}\n",
    "\n",
    "NUM_MAZES = 10"
   ]
  },
  {
   "cell_type": "markdown",
   "metadata": {},
   "source": [
    "## Generar laberintos"
   ]
  },
  {
   "cell_type": "code",
   "execution_count": null,
   "metadata": {},
   "outputs": [],
   "source": [
    "mazes = []\n",
    "\n",
    "for i in range(NUM_MAZES):\n",
    "    maze = MazeGenerator(DIM, DIM)\n",
    "    maze_dict = maze.get_maze_dict()\n",
    "    mazes.append(maze_dict)"
   ]
  },
  {
   "cell_type": "markdown",
   "metadata": {},
   "source": [
    "## Comparar fitness"
   ]
  },
  {
   "cell_type": "code",
   "execution_count": null,
   "metadata": {},
   "outputs": [],
   "source": [
    "results = {func_name: [] for func_name in FITNESS_FUNCTIONS.keys()}\n",
    "for maze_index, maze_dic in enumerate(mazes):\n",
    "    print(f\"--- Maze {maze_index + 1} ---\")\n",
    "\n",
    "    # Preparar el generador de caminos compartido para todos los algoritmos en este laberinto\n",
    "    maze_matrix = maze_dic[\"matrix\"]\n",
    "    entry_position = maze_dic[\"entry\"]\n",
    "    exit_position = maze_dic[\"exit\"]\n",
    "    path_gen = PathGenerator(maze_matrix, entry_position)\n",
    "    path_gen.generate_paths(POPULATION)\n",
    "    initial_paths = path_gen.get_paths()\n",
    "\n",
    "    # Ejecutar algoritmo genético para cada función de fitness\n",
    "    for func_name, fitness_func in FITNESS_FUNCTIONS.items():\n",
    "        print(f\"Ejecutando con función de fitness: {func_name}\")\n",
    "        \n",
    "        # Crear instancia de algoritmo genético\n",
    "        genetic = GeneticAlgorithm(initial_paths, maze_dic, MUTATION_RATE, EPOCHS, POPULATION, fitness_func, crossover, mutation)\n",
    "        \n",
    "        # Ejecutar el algoritmo y recolectar resultados\n",
    "        generations, fitness_history, solution_found, final_epoch = genetic.run()\n",
    "        if solution_found:\n",
    "            print(f\"Solución encontrada en la generación {final_epoch}\")\n",
    "            correct_solutions_count = maze_dic[\"solutions\"][exit_position]\n",
    "        else:\n",
    "            print(\"No se encontró solución\")\n",
    "            correct_solutions_count = 0\n",
    "        print(\"-\"*50)\n",
    "\n",
    "        # Guardar los resultados en el diccionario\n",
    "        results[func_name].append({\n",
    "            \"maze_index\": maze_index,\n",
    "            \"solution_found\": solution_found,\n",
    "            \"generation_solution_found\": final_epoch if solution_found else None,\n",
    "            \"correct_solutions_count\": correct_solutions_count\n",
    "        })"
   ]
  },
  {
   "cell_type": "markdown",
   "metadata": {},
   "source": [
    "## Resultados"
   ]
  },
  {
   "cell_type": "code",
   "execution_count": null,
   "metadata": {},
   "outputs": [],
   "source": [
    "# Comparativa de generación de primera solución entre funciones de fitness\n",
    "for func_name, func_results in results.items():\n",
    "    generations_to_solution = [result[\"generation_solution_found\"] for result in func_results if result[\"solution_found\"]]\n",
    "    plt.plot(range(len(generations_to_solution)), generations_to_solution, marker='o', label=func_name)\n",
    "\n",
    "plt.title(\"Generación de Primera Solución por Función de Fitness\")\n",
    "plt.xlabel(\"Número de Laberinto\")\n",
    "plt.ylabel(\"Generación de Primera Solución\")\n",
    "plt.legend()\n",
    "plt.grid(True)\n",
    "plt.show()\n"
   ]
  },
  {
   "cell_type": "code",
   "execution_count": null,
   "metadata": {},
   "outputs": [],
   "source": [
    "# Comparativa de cantidad de soluciones correctas al finalizar entre funciones de fitness\n",
    "for func_name, func_results in results.items():\n",
    "    correct_solutions = [result[\"correct_solutions_count\"] for result in func_results]\n",
    "    plt.plot(range(len(correct_solutions)), correct_solutions, marker='o', label=func_name)\n",
    "\n",
    "plt.title(\"Cantidad Total de Soluciones Correctas al Finalizar\")\n",
    "plt.xlabel(\"Número de Laberinto\")\n",
    "plt.ylabel(\"Cantidad de Soluciones Correctas\")\n",
    "plt.legend()\n",
    "plt.grid(True)\n",
    "plt.show()"
   ]
  }
 ],
 "metadata": {
  "kernelspec": {
   "display_name": "MazeSolver",
   "language": "python",
   "name": "python3"
  },
  "language_info": {
   "codemirror_mode": {
    "name": "ipython",
    "version": 3
   },
   "file_extension": ".py",
   "mimetype": "text/x-python",
   "name": "python",
   "nbconvert_exporter": "python",
   "pygments_lexer": "ipython3",
   "version": "3.12.7"
  }
 },
 "nbformat": 4,
 "nbformat_minor": 2
}
